{
  "nbformat": 4,
  "nbformat_minor": 0,
  "metadata": {
    "colab": {
      "name": "19 Black and White Photos classification",
      "provenance": [],
      "collapsed_sections": [],
      "include_colab_link": true
    },
    "kernelspec": {
      "name": "python3",
      "display_name": "Python 3"
    },
    "language_info": {
      "name": "python"
    }
  },
  "cells": [
    {
      "cell_type": "markdown",
      "metadata": {
        "id": "view-in-github",
        "colab_type": "text"
      },
      "source": [
        "<a href=\"https://colab.research.google.com/github/rohailkhan/Acomputer_vision/blob/main/19_Black_and_White_Photos_classification.ipynb\" target=\"_parent\"><img src=\"https://colab.research.google.com/assets/colab-badge.svg\" alt=\"Open In Colab\"/></a>"
      ]
    },
    {
      "cell_type": "markdown",
      "metadata": {
        "id": "WPV9ErcueOfy"
      },
      "source": [
        "# **Summary**\n",
        "\n"
      ]
    },
    {
      "cell_type": "code",
      "metadata": {
        "id": "_B1u-P1Gdlfv"
      },
      "source": [
        "# LIBARIES\n",
        "\n",
        "from keras.datasets import fashion_mnist\n",
        "# libraries for pr-processing\n",
        "import numpy as np\n",
        "import tensorflow as tf\n",
        "from numpy import asarray\n",
        "\n",
        "# for plotting model  and transfer learning\n",
        "from keras import utils\n",
        "from keras.layers import Input\n",
        "#Libraries for CNN\n",
        "from keras.models import Sequential , Model\n",
        "from keras.layers import Conv2D,MaxPooling2D,Dense,Flatten\n",
        "# Optimizers\n",
        "from keras import optimizers"
      ],
      "execution_count": null,
      "outputs": []
    },
    {
      "cell_type": "code",
      "metadata": {
        "colab": {
          "base_uri": "https://localhost:8080/"
        },
        "id": "tJ74Xt5H_O4L",
        "outputId": "d81745f8-3b2f-4161-c782-fd57402534de"
      },
      "source": [
        "(trainX, trainY), (testX, testY) = fashion_mnist.load_data() "
      ],
      "execution_count": null,
      "outputs": [
        {
          "output_type": "stream",
          "name": "stdout",
          "text": [
            "Downloading data from https://storage.googleapis.com/tensorflow/tf-keras-datasets/train-labels-idx1-ubyte.gz\n",
            "32768/29515 [=================================] - 0s 0us/step\n",
            "40960/29515 [=========================================] - 0s 0us/step\n",
            "Downloading data from https://storage.googleapis.com/tensorflow/tf-keras-datasets/train-images-idx3-ubyte.gz\n",
            "26427392/26421880 [==============================] - 0s 0us/step\n",
            "26435584/26421880 [==============================] - 0s 0us/step\n",
            "Downloading data from https://storage.googleapis.com/tensorflow/tf-keras-datasets/t10k-labels-idx1-ubyte.gz\n",
            "16384/5148 [===============================================================================================] - 0s 0us/step\n",
            "Downloading data from https://storage.googleapis.com/tensorflow/tf-keras-datasets/t10k-images-idx3-ubyte.gz\n",
            "4423680/4422102 [==============================] - 0s 0us/step\n",
            "4431872/4422102 [==============================] - 0s 0us/step\n"
          ]
        }
      ]
    },
    {
      "cell_type": "code",
      "metadata": {
        "colab": {
          "base_uri": "https://localhost:8080/",
          "height": 227
        },
        "id": "0oNykkqxrDU3",
        "outputId": "a61bdeb1-5574-4653-ac9e-55109d1c7993"
      },
      "source": [
        "import matplotlib.pyplot as plt\n",
        "trainX[1].shape\n",
        "plt.imshow(trainX[1][0:15][0:28],cmap='gray')\n",
        "plt.show()"
      ],
      "execution_count": null,
      "outputs": [
        {
          "output_type": "display_data",
          "data": {
            "image/png": "[encoded data removed]",
            "text/plain": [
              "<Figure size 432x288 with 1 Axes>"
            ]
          },
          "metadata": {
            "needs_background": "light"
          }
        }
      ]
    },
    {
      "cell_type": "code",
      "metadata": {
        "colab": {
          "base_uri": "https://localhost:8080/",
          "height": 265
        },
        "id": "wvj1s-KzsV8C",
        "outputId": "1bf6a68b-8f50-4a78-8dd6-07a86ae22a7d"
      },
      "source": [
        "\n",
        "plt.imshow(trainX[3][0:28][0:28],cmap='gray')\n",
        "plt.show()"
      ],
      "execution_count": null,
      "outputs": [
        {
          "output_type": "display_data",
          "data": {
            "image/png": "[encoded data removed]",
            "text/plain": [
              "<Figure size 432x288 with 1 Axes>"
            ]
          },
          "metadata": {
            "needs_background": "light"
          }
        }
      ]
    },
    {
      "cell_type": "code",
      "metadata": {
        "colab": {
          "base_uri": "https://localhost:8080/"
        },
        "id": "k2Sefl-U2t6P",
        "outputId": "c725a4b3-47cd-478e-d413-b88e22600b56"
      },
      "source": [
        "(trainX.shape, trainY.shape), (testX.shape, testY.shape)"
      ],
      "execution_count": null,
      "outputs": [
        {
          "output_type": "execute_result",
          "data": {
            "text/plain": [
              "(((60000, 28, 28), (60000,)), ((10000, 28, 28), (10000,)))"
            ]
          },
          "metadata": {},
          "execution_count": 8
        }
      ]
    },
    {
      "cell_type": "code",
      "metadata": {
        "id": "JyiAW_uE26Le"
      },
      "source": [
        "trainX ,testX =trainX.reshape(60000,28,28,1) , testX.reshape(10000,28,28,1)"
      ],
      "execution_count": null,
      "outputs": []
    },
    {
      "cell_type": "code",
      "metadata": {
        "id": "hxi77GJW4cth"
      },
      "source": [
        "# change TrainY and TestY to categorical\n",
        "# one hot encode target values\n",
        "trainY = tf.keras.utils.to_categorical(trainY)\n",
        "testY = tf.keras.utils.to_categorical(testY)"
      ],
      "execution_count": null,
      "outputs": []
    },
    {
      "cell_type": "code",
      "metadata": {
        "id": "f_22vHfU5TsZ"
      },
      "source": [
        "# convert to arrays and float and divide by 255..so between 0 and 1\n",
        "trainX ,testX =trainX.astype('float')/255.0 , testX.astype('float')/255.0"
      ],
      "execution_count": null,
      "outputs": []
    },
    {
      "cell_type": "code",
      "metadata": {
        "id": "omgz0Z5z5mLz"
      },
      "source": [
        "model=Sequential()\n",
        "\n",
        "model.add(Conv2D(64,kernel_size=(3,3), input_shape=(28,28,1),activation='relu'))\n",
        "model.add(MaxPooling2D(pool_size=(2,2),strides=1))\n",
        "\n",
        "model.add(Flatten())\n",
        "model.add(Dense(units=100, activation='relu',  kernel_initializer='glorot_uniform'))\n",
        "model.add(Dense(units=10, activation='softmax'))\n",
        "\n",
        "model.compile(optimizer='adam',loss='categorical_crossentropy',metrics=['accuracy'])"
      ],
      "execution_count": null,
      "outputs": []
    },
    {
      "cell_type": "markdown",
      "metadata": {
        "id": "M9ZENItDGZDx"
      },
      "source": [
        "Note : Since batch-size=40 and 60k/100 =600 ,therefore in each epoch there will be total 1500 batches\n",
        "\n",
        "\n"
      ]
    },
    {
      "cell_type": "code",
      "metadata": {
        "colab": {
          "base_uri": "https://localhost:8080/"
        },
        "id": "tVzpulv98BBo",
        "outputId": "c65ef372-0f35-4acf-a886-e76b05b00949"
      },
      "source": [
        "history=model.fit(x=trainX, y=trainY, batch_size=80, epochs=10, verbose='auto', callbacks=None, validation_split=0.0)"
      ],
      "execution_count": null,
      "outputs": [
        {
          "output_type": "stream",
          "name": "stdout",
          "text": [
            "Epoch 1/10\n",
            "750/750 [==============================] - 141s 188ms/step - loss: 0.0704 - accuracy: 0.9742\n",
            "Epoch 2/10\n",
            "750/750 [==============================] - 99s 132ms/step - loss: 0.0579 - accuracy: 0.9790\n",
            "Epoch 3/10\n",
            "750/750 [==============================] - 99s 132ms/step - loss: 0.0450 - accuracy: 0.9841\n",
            "Epoch 4/10\n",
            "750/750 [==============================] - 98s 131ms/step - loss: 0.0440 - accuracy: 0.9839\n",
            "Epoch 5/10\n",
            "750/750 [==============================] - 99s 132ms/step - loss: 0.0367 - accuracy: 0.9872\n",
            "Epoch 6/10\n",
            "750/750 [==============================] - 99s 132ms/step - loss: 0.0332 - accuracy: 0.9887\n",
            "Epoch 7/10\n",
            "750/750 [==============================] - 99s 132ms/step - loss: 0.0307 - accuracy: 0.9892\n",
            "Epoch 8/10\n",
            "750/750 [==============================] - 98s 131ms/step - loss: 0.0248 - accuracy: 0.9913\n",
            "Epoch 9/10\n",
            "750/750 [==============================] - 98s 130ms/step - loss: 0.0201 - accuracy: 0.9930\n",
            "Epoch 10/10\n",
            "750/750 [==============================] - 98s 131ms/step - loss: 0.0259 - accuracy: 0.9911\n"
          ]
        }
      ]
    },
    {
      "cell_type": "markdown",
      "metadata": {
        "id": "5KB5z4p1DTQj"
      },
      "source": [
        "## Saving Model\n",
        "### 1- Saving Model"
      ]
    },
    {
      "cell_type": "code",
      "metadata": {
        "id": "-iRhT0k-DkvL"
      },
      "source": [
        "# saving model\n",
        "\n",
        "path='/content/drive/MyDrive/20210309_Files/'\n",
        "model_path=path +'/digits_model1.h5'\n",
        "# saving model\n",
        "model.save(model_path,overwrite=True)\n"
      ],
      "execution_count": null,
      "outputs": []
    },
    {
      "cell_type": "markdown",
      "metadata": {
        "id": "u7Nb_-6rD6NW"
      },
      "source": [
        "### 2- Saving History of training"
      ]
    },
    {
      "cell_type": "code",
      "metadata": {
        "id": "Uk261NIkoEdA"
      },
      "source": [
        "import json"
      ],
      "execution_count": null,
      "outputs": []
    },
    {
      "cell_type": "code",
      "metadata": {
        "id": "tRkgv_ZTDxmc"
      },
      "source": [
        "# saving model history \n",
        "\n",
        "\n",
        "# # Get the dictionary containing each metric and the loss for each epoch\n",
        "history_dict = history.history\n",
        "\n",
        "# # Save it under the form of a json file\n",
        "history_path=path +'/history_digits_model1.json'\n",
        "json.dump(str(history_dict), open(history_path, 'w'))"
      ],
      "execution_count": null,
      "outputs": []
    },
    {
      "cell_type": "markdown",
      "metadata": {
        "id": "yN07UKq2EVz1"
      },
      "source": [
        "# Using Model Evalutation (only) on the Test Data\n",
        "This time ,no training is required. Simply load the previously saved model (that was trainined using the training data)"
      ]
    },
    {
      "cell_type": "code",
      "metadata": {
        "colab": {
          "base_uri": "https://localhost:8080/"
        },
        "id": "JdkesePKEU5v",
        "outputId": "420c7659-2203-4b51-f63a-2170e0c3e2e1"
      },
      "source": [
        "losses , accuracy =model.evaluate(testX, testY)\n",
        "print('Final modal accuracy={} loss={}'.format(accuracy*100, losses))"
      ],
      "execution_count": null,
      "outputs": [
        {
          "output_type": "stream",
          "name": "stdout",
          "text": [
            "313/313 [==============================] - 5s 16ms/step - loss: 0.5392 - accuracy: 0.9127\n",
            "Final modal accuracy=91.26999974250793 loss=0.5392260551452637\n"
          ]
        }
      ]
    },
    {
      "cell_type": "markdown",
      "metadata": {
        "id": "uphF9lpanzNN"
      },
      "source": [
        "# Loading History of Accuracy and Losses of the Mode"
      ]
    },
    {
      "cell_type": "code",
      "metadata": {
        "id": "Oz0RfHy8EU_d"
      },
      "source": [
        "path='/content/drive/MyDrive/20210309_Files/'\n",
        "history_path=path +'/history_digits_model1.json'\n",
        "history= json.load(open(history_path, 'r'))"
      ],
      "execution_count": null,
      "outputs": []
    },
    {
      "cell_type": "code",
      "metadata": {
        "id": "n1IXUqiUEVDc"
      },
      "source": [
        "# The loaded history is in String format.Converting it back to\n",
        "# dictionary\n",
        "import ast\n",
        "history_1=ast.literal_eval(history)"
      ],
      "execution_count": null,
      "outputs": []
    },
    {
      "cell_type": "code",
      "metadata": {
        "colab": {
          "base_uri": "https://localhost:8080/",
          "height": 545
        },
        "id": "8281HK4doQAj",
        "outputId": "92d800fc-e8f5-4e06-8435-f0167505eb63"
      },
      "source": [
        "### .\n",
        "import numpy as np\n",
        "import matplotlib.pyplot as plt\n",
        "\n",
        "acc = history_1['accuracy']\n",
        "#acc=np.array(acc)\n",
        "\n",
        "#val_acc=np.array(val_acc)\n",
        "loss = history_1['loss']\n",
        "\n",
        "epochs = range(1, len(acc) + 1)\n",
        "acc=np.array(acc)\n",
        "\n",
        "plt.plot(epochs, np.array(acc), 'r', label='Training acc')\n",
        "\n",
        "plt.title('Training  accuracy')\n",
        "plt.legend()\n",
        "plt.figure()\n",
        "plt.plot(epochs, loss, 'r', label='Training loss')\n",
        "\n",
        "plt.title('Training  loss')\n",
        "plt.legend()\n",
        "plt.show()"
      ],
      "execution_count": null,
      "outputs": [
        {
          "output_type": "display_data",
          "data": {
            "image/png": "[encoded data removed]",
            "text/plain": [
              "<Figure size 432x288 with 1 Axes>"
            ]
          },
          "metadata": {
            "needs_background": "light"
          }
        },
        {
          "output_type": "display_data",
          "data": {
            "image/png": "[encoded data removed]",
            "text/plain": [
              "<Figure size 432x288 with 1 Axes>"
            ]
          },
          "metadata": {
            "needs_background": "light"
          }
        }
      ]
    },
    {
      "cell_type": "markdown",
      "metadata": {
        "id": "G8odeEX1qQ6g"
      },
      "source": [
        "# Predictions\n",
        "\n",
        "\n",
        "```\n",
        "from keras.preprocessing.image import load_img\n",
        "from keras.preprocessing.image import img_to_array\n",
        "from keras.models import load_model\n",
        "```\n",
        "\n"
      ]
    },
    {
      "cell_type": "code",
      "metadata": {
        "colab": {
          "base_uri": "https://localhost:8080/",
          "height": 282
        },
        "id": "Nl-dNCCZtUsc",
        "outputId": "10503071-69b9-44f2-d513-ae8726149203"
      },
      "source": [
        "plt.imshow(trainX[8])"
      ],
      "execution_count": null,
      "outputs": [
        {
          "output_type": "execute_result",
          "data": {
            "text/plain": [
              "<matplotlib.image.AxesImage at 0x7f54f3fa47d0>"
            ]
          },
          "metadata": {},
          "execution_count": 52
        },
        {
          "output_type": "display_data",
          "data": {
            "image/png": "[encoded data removed]",
            "text/plain": [
              "<Figure size 432x288 with 1 Axes>"
            ]
          },
          "metadata": {
            "needs_background": "light"
          }
        }
      ]
    },
    {
      "cell_type": "code",
      "metadata": {
        "id": "qbC10xuLuMbm"
      },
      "source": [
        "iamge_path='/content/drive/MyDrive/20210309_Datasets/download.png'\n",
        "from keras.preprocessing.image import load_img\n",
        "from keras.preprocessing.image import img_to_array\n",
        "from keras.models import load_model\n",
        "model=load_model(filepath='/content/drive/MyDrive/20210309_Files/digits_model1.h5')"
      ],
      "execution_count": null,
      "outputs": []
    },
    {
      "cell_type": "code",
      "metadata": {
        "id": "NEKhfroRu2SR"
      },
      "source": [
        "image=load_img(path=iamge_path,target_size=(28,28) , color_mode='grayscale')\n"
      ],
      "execution_count": null,
      "outputs": []
    },
    {
      "cell_type": "code",
      "metadata": {
        "colab": {
          "base_uri": "https://localhost:8080/"
        },
        "id": "iKWMbe86vOBC",
        "outputId": "e83fb6e2-3fe2-4166-e1f5-82e00d47049b"
      },
      "source": [
        "image=np.array(image)\n",
        "image.shape"
      ],
      "execution_count": null,
      "outputs": [
        {
          "output_type": "execute_result",
          "data": {
            "text/plain": [
              "(28, 28)"
            ]
          },
          "metadata": {},
          "execution_count": 47
        }
      ]
    },
    {
      "cell_type": "code",
      "metadata": {
        "id": "y6FVUDrYvdbG"
      },
      "source": [
        "image=image.reshape(1,28,28,1)"
      ],
      "execution_count": null,
      "outputs": []
    },
    {
      "cell_type": "code",
      "metadata": {
        "colab": {
          "base_uri": "https://localhost:8080/"
        },
        "id": "TXW1kEYEyPcH",
        "outputId": "c7f583ac-d0a5-4931-f927-048e37296e83"
      },
      "source": [
        "image=image.astype('float32')/255.0\n",
        "prediction=model.predict(image)\n",
        "prediction"
      ],
      "execution_count": null,
      "outputs": [
        {
          "output_type": "execute_result",
          "data": {
            "text/plain": [
              "array([[0.02698781, 0.00080144, 0.00342089, 0.0016097 , 0.00252902,\n",
              "        0.65096533, 0.00392458, 0.00969058, 0.27617192, 0.02389874]],\n",
              "      dtype=float32)"
            ]
          },
          "metadata": {},
          "execution_count": 53
        }
      ]
    },
    {
      "cell_type": "code",
      "metadata": {
        "id": "QaYR8Q-v--Wn"
      },
      "source": [
        "#using VGG"
      ],
      "execution_count": null,
      "outputs": []
    },
    {
      "cell_type": "markdown",
      "metadata": {
        "id": "2_72x8EqpazA"
      },
      "source": [
        "## Reamining Tasks\n",
        "\n",
        "\n",
        "1.   Make functions for loading and preprocessing\n",
        "2.   Make function for model and training\n",
        "\n",
        "2.   Use kfold splits for training\n",
        "\n"
      ]
    }
  ]
}