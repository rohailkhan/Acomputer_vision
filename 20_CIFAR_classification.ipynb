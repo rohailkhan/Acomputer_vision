{
  "nbformat": 4,
  "nbformat_minor": 0,
  "metadata": {
    "colab": {
      "name": "20 CIFAR classification",
      "provenance": [],
      "collapsed_sections": [],
      "mount_file_id": "19AzpGKMgZU5KcRzP9DJlcTzVkfVLcXy1",
      "authorship_tag": "ABX9TyOf0s1R4d+W2Lq3SiPwWdXa",
      "include_colab_link": true
    },
    "kernelspec": {
      "name": "python3",
      "display_name": "Python 3"
    },
    "language_info": {
      "name": "python"
    },
    "accelerator": "GPU"
  },
  "cells": [
    {
      "cell_type": "markdown",
      "metadata": {
        "id": "view-in-github",
        "colab_type": "text"
      },
      "source": [
        "<a href=\"https://colab.research.google.com/github/rohailkhan/Acomputer_vision/blob/main/20_CIFAR_classification.ipynb\" target=\"_parent\"><img src=\"https://colab.research.google.com/assets/colab-badge.svg\" alt=\"Open In Colab\"/></a>"
      ]
    },
    {
      "cell_type": "markdown",
      "metadata": {
        "id": "WPV9ErcueOfy"
      },
      "source": [
        "# **Summary**\n",
        "\n"
      ]
    },
    {
      "cell_type": "code",
      "metadata": {
        "id": "_B1u-P1Gdlfv"
      },
      "source": [
        "# LIBARIES\n",
        "\n",
        "from keras.datasets import cifar10\n",
        "# libraries for pr-processing and plotting\n",
        "import numpy as np\n",
        "import tensorflow as tf\n",
        "from numpy import asarray\n",
        "import matplotlib.pyplot as plt\n",
        "\n",
        "\n",
        "# for plotting model  and transfer learning\n",
        "from keras import utils\n",
        "from keras.layers import Input\n",
        "#Libraries for CNN\n",
        "from keras.models import Sequential , Model\n",
        "from keras.layers import Conv2D,MaxPooling2D,Dense,Flatten\n",
        "# Optimizers\n",
        "from keras import optimizers"
      ],
      "execution_count": 1,
      "outputs": []
    },
    {
      "cell_type": "code",
      "metadata": {
        "id": "qG9X8_Fw3idR"
      },
      "source": [
        "(trainX, trainY), (testX, testY) = cifar10.load_data() \n"
      ],
      "execution_count": 13,
      "outputs": []
    },
    {
      "cell_type": "code",
      "metadata": {
        "colab": {
          "base_uri": "https://localhost:8080/"
        },
        "id": "YM-a7rhstNQD",
        "outputId": "c832230d-01da-4a1d-8285-f38d445e7afa"
      },
      "source": [
        "(trainX.shape, trainY.shape), (testX.shape, testY.shape)"
      ],
      "execution_count": 14,
      "outputs": [
        {
          "output_type": "execute_result",
          "data": {
            "text/plain": [
              "(((50000, 32, 32, 3), (50000, 1)), ((10000, 32, 32, 3), (10000, 1)))"
            ]
          },
          "metadata": {},
          "execution_count": 14
        }
      ]
    },
    {
      "cell_type": "code",
      "metadata": {
        "colab": {
          "base_uri": "https://localhost:8080/",
          "height": 153
        },
        "id": "0gR8BTituIbR",
        "outputId": "b41f49b9-f9dd-4685-b986-b75c6e87b119"
      },
      "source": [
        "plt.imshow(trainX[1][0:32][0:10])\n",
        "plt.show()"
      ],
      "execution_count": 4,
      "outputs": [
        {
          "output_type": "display_data",
          "data": {
            "image/png": "[encoded data removed]",
            "text/plain": [
              "<Figure size 432x288 with 1 Axes>"
            ]
          },
          "metadata": {
            "needs_background": "light"
          }
        }
      ]
    },
    {
      "cell_type": "code",
      "metadata": {
        "id": "6win3zTM73xj"
      },
      "source": [
        "trainY =tf.keras.utils.to_categorical(trainY)\n"
      ],
      "execution_count": 5,
      "outputs": []
    },
    {
      "cell_type": "code",
      "metadata": {
        "id": "ZhrfEdLP8PIB"
      },
      "source": [
        "testY =tf.keras.utils.to_categorical(testY )"
      ],
      "execution_count": 6,
      "outputs": []
    },
    {
      "cell_type": "code",
      "metadata": {
        "id": "GhhwityW8MY9"
      },
      "source": [
        "trainX, testX = trainX.astype('float32')/255.0, testX.astype('float32')/255.0"
      ],
      "execution_count": 7,
      "outputs": []
    },
    {
      "cell_type": "markdown",
      "metadata": {
        "id": "gg6gkyQE6QMg"
      },
      "source": [
        "## Define functions :\n",
        "1 - load_dataset cifar10 :  just load data, in train and test features/labels and convert labels to cat\n",
        "\n",
        "\n",
        "2 - prep_pixels : normalize the feautres between 0 and 1 and change to float\n",
        "\n",
        "3 - define_model\n",
        "\n",
        "4 - plot_diagnostics i.e loss vs val_loss and accuracy vs validation_accuracy\n",
        "\n",
        "5 - run_model_harness which fits model (with history) ad evlauate model (to get accuracy) and plot_diagnostics\n"
      ]
    },
    {
      "cell_type": "code",
      "metadata": {
        "id": "BYr_O32mudlw"
      },
      "source": [
        "def load_dataset():\n",
        "    (trainX, trainY), (testX, testY) = cifar10.load_data() \n",
        "    trainY =tf.keras.utils.to_categorical(trainY)\n",
        "    testY =tf.keras.utils.to_categorical(testY)\n",
        "    return (trainX, trainY), (testX, testY)\n",
        "\n",
        "# for feature pr-processing .     \n",
        "def prep_pixels(trainX, testX):\n",
        "    trainX1=trainX.astype('float32')\n",
        "    trainX1=trainX1/255.0 \n",
        "    testX1=testX.astype('float32')\n",
        "    testX1=testX1/255.\n",
        "    return (trainX1, testX1)\n",
        "\n",
        "def base_model():\n",
        "    model=Sequential()\n",
        "    model.add(Conv2D(filters=32 , kernel_size=(3,3),input_shape=(32,32,3),activation='relu'))\n",
        "    model.add(MaxPooling2D(pool_size=(2,2),strides=None,padding='valid'))\n",
        "    \n",
        "    model.add(Conv2D(filters=64 , kernel_size=(3,3),input_shape=(32,32,3),activation='relu'))\n",
        "    model.add(MaxPooling2D(pool_size=(2,2),strides=None,padding='valid'))\n",
        "\n",
        "    model.add(Flatten())\n",
        "    model.add(Dense(units=100,activation='relu'))\n",
        "    model.add(Dense(units=10,activation='softmax'))\n",
        "    model.compile(optimizer='adam',loss='categorical_crossentropy',metrics=['accuracy'])\n",
        "    return model\n",
        "\n",
        "\n",
        "def plot_diagnostics(history):\n",
        "    fig , axx = plt.subplots(nrows=2,ncols=1,figsize=(10,10))\n",
        "    axx[0].plot(range(0,10),history['loss'],color='green',label='Training Loss')\n",
        "    axx[0].plot(range(0,10),history['val_loss'], color='red' ,label='Validation Loss')\n",
        "    axx[0].set_title('Training Vs Validation Loss')\n",
        "    axx[0].set_ylabel('Loss')\n",
        "    axx[0].set_xlabel('Epochs')\n",
        "    axx[0].legend()\n",
        "\n",
        "    axx[1].plot(range(0,10),history['accuracy'],color='green',label='Training accuracy')\n",
        "    axx[1].plot(range(0,10),history['val_accuracy'], color='red' ,label='Validation accuracy')\n",
        "    axx[1].set_title('Training Vs Validation Accuracy')\n",
        "    axx[1].set_ylabel('Accuracy')\n",
        "    axx[1].set_xlabel('Epochs')\n",
        "    axx[1].legend()\n",
        "\n",
        "    plt.show()\n",
        "\n",
        "\n",
        "def run_model_harness():\n",
        "    (trainX, trainY), (testX, testY)= load_dataset()\n",
        "    (trainX, testX)=prep_pixels(trainX, testX)\n",
        "    model=base_model()\n",
        "    history=model.fit(x=trainX,y=trainY,batch_size=100,epochs=10 , validation_data=(testX, testY),verbose=1)\n",
        "    \n",
        "    losses , accuracy =model.evaluate(testX, testY)\n",
        "    print(\"XXXXXXXXXXXXXXXXXXXXXXXXXXXXXXXXXXXXXX\")\n",
        "    print('Final modal accuracy={} loss={}'.format(accuracy*100, losses))\n",
        "    \n",
        "    history1=history.history\n",
        "    plot_diagnostics(history1)\n"
      ],
      "execution_count": 102,
      "outputs": []
    },
    {
      "cell_type": "code",
      "metadata": {
        "colab": {
          "base_uri": "https://localhost:8080/",
          "height": 1000
        },
        "id": "r6V0nVa6MgBN",
        "outputId": "e688fa64-ea4e-4144-a10e-eb70f53dc383"
      },
      "source": [
        "run_model_harness()"
      ],
      "execution_count": 103,
      "outputs": [
        {
          "output_type": "stream",
          "name": "stdout",
          "text": [
            "Epoch 1/10\n",
            "500/500 [==============================] - 6s 12ms/step - loss: 1.5589 - accuracy: 0.4408 - val_loss: 1.3005 - val_accuracy: 0.5360\n",
            "Epoch 2/10\n",
            "500/500 [==============================] - 5s 10ms/step - loss: 1.2134 - accuracy: 0.5740 - val_loss: 1.1264 - val_accuracy: 0.6127\n",
            "Epoch 3/10\n",
            "500/500 [==============================] - 5s 10ms/step - loss: 1.0751 - accuracy: 0.6239 - val_loss: 1.0683 - val_accuracy: 0.6239\n",
            "Epoch 4/10\n",
            "500/500 [==============================] - 5s 9ms/step - loss: 0.9876 - accuracy: 0.6567 - val_loss: 0.9846 - val_accuracy: 0.6581\n",
            "Epoch 5/10\n",
            "500/500 [==============================] - 5s 9ms/step - loss: 0.9238 - accuracy: 0.6774 - val_loss: 0.9789 - val_accuracy: 0.6603\n",
            "Epoch 6/10\n",
            "500/500 [==============================] - 4s 9ms/step - loss: 0.8645 - accuracy: 0.7007 - val_loss: 1.0037 - val_accuracy: 0.6443\n",
            "Epoch 7/10\n",
            "500/500 [==============================] - 4s 9ms/step - loss: 0.8127 - accuracy: 0.7181 - val_loss: 0.9237 - val_accuracy: 0.6838\n",
            "Epoch 8/10\n",
            "500/500 [==============================] - 4s 9ms/step - loss: 0.7713 - accuracy: 0.7333 - val_loss: 0.9081 - val_accuracy: 0.6857\n",
            "Epoch 9/10\n",
            "500/500 [==============================] - 4s 9ms/step - loss: 0.7322 - accuracy: 0.7466 - val_loss: 0.9070 - val_accuracy: 0.6935\n",
            "Epoch 10/10\n",
            "500/500 [==============================] - 4s 9ms/step - loss: 0.6906 - accuracy: 0.7590 - val_loss: 0.8985 - val_accuracy: 0.6960\n",
            "313/313 [==============================] - 1s 4ms/step - loss: 0.8985 - accuracy: 0.6960\n",
            "XXXXXXXXXXXXXXXXXXXXXXXXXXXXXXXXXXXXXX\n",
            "Final modal accuracy=69.59999799728394 loss=0.8984781503677368\n"
          ]
        },
        {
          "output_type": "display_data",
          "data": {
            "image/png": "[encoded data removed]",
            "text/plain": [
              "<Figure size 720x720 with 2 Axes>"
            ]
          },
          "metadata": {
            "needs_background": "light"
          }
        }
      ]
    },
    {
      "cell_type": "markdown",
      "metadata": {
        "id": "7fau1uaMSK2v"
      },
      "source": [
        "## Saving Model\n",
        "### 1- Saving Model and History"
      ]
    },
    {
      "cell_type": "code",
      "metadata": {
        "id": "H7QvkfUqQTU6"
      },
      "source": [
        "# saving model\n",
        "\n",
        "path='/content/drive/MyDrive/20210309_Files/'\n",
        "model_path=path +'/CIFAR1.h5'\n",
        "# saving model\n",
        "model.save(model_path,overwrite=True)"
      ],
      "execution_count": 104,
      "outputs": []
    },
    {
      "cell_type": "code",
      "metadata": {
        "id": "qTzbCYVXQfXs"
      },
      "source": [
        "# saving model history \n",
        "import json\n",
        "\n",
        "# # Save it under the form of a json file\n",
        "history_path=path +'/CIFAR_history1.json'\n",
        "json.dump(str(history1), open(history_path, 'w'))"
      ],
      "execution_count": 105,
      "outputs": []
    },
    {
      "cell_type": "markdown",
      "metadata": {
        "id": "yBr3T00ESeDG"
      },
      "source": [
        "## Plotting from the saved History"
      ]
    },
    {
      "cell_type": "code",
      "metadata": {
        "id": "joJ_fwX0Sgd4"
      },
      "source": [
        "path='/content/drive/MyDrive/20210309_Files/'\n",
        "history_path=path +'/CIFAR_history1.json'\n",
        "history1= json.load(open(history_path, 'r'))"
      ],
      "execution_count": 108,
      "outputs": []
    },
    {
      "cell_type": "code",
      "metadata": {
        "colab": {
          "base_uri": "https://localhost:8080/",
          "height": 814
        },
        "id": "veDNoVJ4THDb",
        "outputId": "a6c21124-e8db-4387-f845-a2aaf522e72d"
      },
      "source": [
        "fig , axx = plt.subplots(nrows=2,ncols=1,figsize=(10,10))\n",
        "axx[0].plot(range(0,10),history1['loss'],color='green',label='Training Loss')\n",
        "axx[0].plot(range(0,10),history1['val_loss'], color='red' ,label='Validation Loss')\n",
        "axx[0].set_title('Training Vs Validation Loss')\n",
        "axx[0].set_ylabel('Loss')\n",
        "axx[0].set_xlabel('Epochs')\n",
        "axx[0].legend()\n",
        "\n",
        "axx[1].plot(range(0,10),history1['accuracy'],color='green',label='Training accuracy')\n",
        "axx[1].plot(range(0,10),history1['val_accuracy'], color='red' ,label='Validation accuracy')\n",
        "axx[1].set_title('Training Vs Validation Accuracy')\n",
        "axx[1].set_ylabel('Accuracy')\n",
        "axx[1].set_xlabel('Epochs')\n",
        "axx[1].legend()\n",
        "\n",
        "plt.show()"
      ],
      "execution_count": 109,
      "outputs": [
        {
          "output_type": "error",
          "ename": "TypeError",
          "evalue": "ignored",
          "traceback": [
            "\u001b[0;31m---------------------------------------------------------------------------\u001b[0m",
            "\u001b[0;31mTypeError\u001b[0m                                 Traceback (most recent call last)",
            "\u001b[0;32m<ipython-input-109-4f55d90edcf4>\u001b[0m in \u001b[0;36m<module>\u001b[0;34m()\u001b[0m\n\u001b[1;32m      1\u001b[0m \u001b[0mfig\u001b[0m \u001b[0;34m,\u001b[0m \u001b[0maxx\u001b[0m \u001b[0;34m=\u001b[0m \u001b[0mplt\u001b[0m\u001b[0;34m.\u001b[0m\u001b[0msubplots\u001b[0m\u001b[0;34m(\u001b[0m\u001b[0mnrows\u001b[0m\u001b[0;34m=\u001b[0m\u001b[0;36m2\u001b[0m\u001b[0;34m,\u001b[0m\u001b[0mncols\u001b[0m\u001b[0;34m=\u001b[0m\u001b[0;36m1\u001b[0m\u001b[0;34m,\u001b[0m\u001b[0mfigsize\u001b[0m\u001b[0;34m=\u001b[0m\u001b[0;34m(\u001b[0m\u001b[0;36m10\u001b[0m\u001b[0;34m,\u001b[0m\u001b[0;36m10\u001b[0m\u001b[0;34m)\u001b[0m\u001b[0;34m)\u001b[0m\u001b[0;34m\u001b[0m\u001b[0;34m\u001b[0m\u001b[0m\n\u001b[0;32m----> 2\u001b[0;31m \u001b[0maxx\u001b[0m\u001b[0;34m[\u001b[0m\u001b[0;36m0\u001b[0m\u001b[0;34m]\u001b[0m\u001b[0;34m.\u001b[0m\u001b[0mplot\u001b[0m\u001b[0;34m(\u001b[0m\u001b[0mrange\u001b[0m\u001b[0;34m(\u001b[0m\u001b[0;36m0\u001b[0m\u001b[0;34m,\u001b[0m\u001b[0;36m10\u001b[0m\u001b[0;34m)\u001b[0m\u001b[0;34m,\u001b[0m\u001b[0mhistory1\u001b[0m\u001b[0;34m[\u001b[0m\u001b[0;34m'loss'\u001b[0m\u001b[0;34m]\u001b[0m\u001b[0;34m,\u001b[0m\u001b[0mcolor\u001b[0m\u001b[0;34m=\u001b[0m\u001b[0;34m'green'\u001b[0m\u001b[0;34m,\u001b[0m\u001b[0mlabel\u001b[0m\u001b[0;34m=\u001b[0m\u001b[0;34m'Training Loss'\u001b[0m\u001b[0;34m)\u001b[0m\u001b[0;34m\u001b[0m\u001b[0;34m\u001b[0m\u001b[0m\n\u001b[0m\u001b[1;32m      3\u001b[0m \u001b[0maxx\u001b[0m\u001b[0;34m[\u001b[0m\u001b[0;36m0\u001b[0m\u001b[0;34m]\u001b[0m\u001b[0;34m.\u001b[0m\u001b[0mplot\u001b[0m\u001b[0;34m(\u001b[0m\u001b[0mrange\u001b[0m\u001b[0;34m(\u001b[0m\u001b[0;36m0\u001b[0m\u001b[0;34m,\u001b[0m\u001b[0;36m10\u001b[0m\u001b[0;34m)\u001b[0m\u001b[0;34m,\u001b[0m\u001b[0mhistory1\u001b[0m\u001b[0;34m[\u001b[0m\u001b[0;34m'val_loss'\u001b[0m\u001b[0;34m]\u001b[0m\u001b[0;34m,\u001b[0m \u001b[0mcolor\u001b[0m\u001b[0;34m=\u001b[0m\u001b[0;34m'red'\u001b[0m \u001b[0;34m,\u001b[0m\u001b[0mlabel\u001b[0m\u001b[0;34m=\u001b[0m\u001b[0;34m'Validation Loss'\u001b[0m\u001b[0;34m)\u001b[0m\u001b[0;34m\u001b[0m\u001b[0;34m\u001b[0m\u001b[0m\n\u001b[1;32m      4\u001b[0m \u001b[0maxx\u001b[0m\u001b[0;34m[\u001b[0m\u001b[0;36m0\u001b[0m\u001b[0;34m]\u001b[0m\u001b[0;34m.\u001b[0m\u001b[0mset_title\u001b[0m\u001b[0;34m(\u001b[0m\u001b[0;34m'Training Vs Validation Loss'\u001b[0m\u001b[0;34m)\u001b[0m\u001b[0;34m\u001b[0m\u001b[0;34m\u001b[0m\u001b[0m\n\u001b[1;32m      5\u001b[0m \u001b[0maxx\u001b[0m\u001b[0;34m[\u001b[0m\u001b[0;36m0\u001b[0m\u001b[0;34m]\u001b[0m\u001b[0;34m.\u001b[0m\u001b[0mset_ylabel\u001b[0m\u001b[0;34m(\u001b[0m\u001b[0;34m'Loss'\u001b[0m\u001b[0;34m)\u001b[0m\u001b[0;34m\u001b[0m\u001b[0;34m\u001b[0m\u001b[0m\n",
            "\u001b[0;31mTypeError\u001b[0m: string indices must be integers"
          ]
        },
        {
          "output_type": "display_data",
          "data": {
            "image/png": "[encoded data removed]",
            "text/plain": [
              "<Figure size 720x720 with 2 Axes>"
            ]
          },
          "metadata": {
            "needs_background": "light"
          }
        }
      ]
    },
    {
      "cell_type": "markdown",
      "metadata": {
        "id": "rHCoSxZxThbT"
      },
      "source": [
        "## **Why error in plotting loaded History in json format?**"
      ]
    },
    {
      "cell_type": "code",
      "metadata": {
        "id": "vR3cmv8NTVWS"
      },
      "source": [
        "# The loaded history is in String format.Converting it back to\n",
        "# dictionary\n",
        "import ast\n",
        "history2=ast.literal_eval(history1)"
      ],
      "execution_count": 110,
      "outputs": []
    },
    {
      "cell_type": "code",
      "metadata": {
        "colab": {
          "base_uri": "https://localhost:8080/",
          "height": 621
        },
        "id": "l2iKpPk_TYRR",
        "outputId": "092b539e-b342-436c-cf53-c10a734b85f7"
      },
      "source": [
        "fig , axx = plt.subplots(nrows=2,ncols=1,figsize=(10,10))\n",
        "axx[0].plot(range(0,10),history2['loss'],color='green',label='Training Loss')\n",
        "axx[0].plot(range(0,10),history2['val_loss'], color='red' ,label='Validation Loss')\n",
        "axx[0].set_title('Training Vs Validation Loss')\n",
        "axx[0].set_ylabel('Loss')\n",
        "axx[0].set_xlabel('Epochs')\n",
        "axx[0].legend()\n",
        "\n",
        "axx[1].plot(range(0,10),history2['accuracy'],color='green',label='Training accuracy')\n",
        "axx[1].plot(range(0,10),history2['val_accuracy'], color='red' ,label='Validation accuracy')\n",
        "axx[1].set_title('Training Vs Validation Accuracy')\n",
        "axx[1].set_ylabel('Accuracy')\n",
        "axx[1].set_xlabel('Epochs')\n",
        "axx[1].legend()\n",
        "\n",
        "plt.show()"
      ],
      "execution_count": 111,
      "outputs": [
        {
          "output_type": "display_data",
          "data": {
            "image/png": "[encoded data removed]",
            "text/plain": [
              "<Figure size 720x720 with 2 Axes>"
            ]
          },
          "metadata": {
            "needs_background": "light"
          }
        }
      ]
    },
    {
      "cell_type": "markdown",
      "metadata": {
        "id": "yN07UKq2EVz1"
      },
      "source": [
        "# Using Model Evalutation (only) on the Test Data\n",
        "This time ,no training is required. Simply load the previously saved model (that was trainined using the training data)"
      ]
    },
    {
      "cell_type": "code",
      "metadata": {
        "colab": {
          "base_uri": "https://localhost:8080/"
        },
        "id": "JdkesePKEU5v",
        "outputId": "0a30c803-6c79-4c84-f52a-c9ed8e36dd6a"
      },
      "source": [
        "losses , accuracy =model.evaluate(testX, testY)\n",
        "print('Final modal accuracy={} loss={}'.format(accuracy*100, losses))"
      ],
      "execution_count": 107,
      "outputs": [
        {
          "output_type": "stream",
          "name": "stdout",
          "text": [
            "313/313 [==============================] - 2s 5ms/step - loss: 1.0960 - accuracy: 0.6738\n",
            "Final modal accuracy=67.3799991607666 loss=1.0960166454315186\n"
          ]
        }
      ]
    },
    {
      "cell_type": "markdown",
      "metadata": {
        "id": "G8odeEX1qQ6g"
      },
      "source": [
        "# Predictions\n",
        "\n",
        "\n",
        "```\n",
        "from keras.preprocessing.image import load_img\n",
        "from keras.preprocessing.image import img_to_array\n",
        "from keras.models import load_model\n",
        "```\n",
        "\n"
      ]
    },
    {
      "cell_type": "code",
      "metadata": {
        "colab": {
          "base_uri": "https://localhost:8080/",
          "height": 283
        },
        "id": "Nl-dNCCZtUsc",
        "outputId": "91ec8bd2-acf9-46fb-a0d8-d2967a296dda"
      },
      "source": [
        "plt.imshow(trainX[5])"
      ],
      "execution_count": 123,
      "outputs": [
        {
          "output_type": "execute_result",
          "data": {
            "text/plain": [
              "<matplotlib.image.AxesImage at 0x7fe903506e50>"
            ]
          },
          "metadata": {},
          "execution_count": 123
        },
        {
          "output_type": "display_data",
          "data": {
            "image/png": "[encoded data removed]",
            "text/plain": [
              "<Figure size 432x288 with 1 Axes>"
            ]
          },
          "metadata": {
            "needs_background": "light"
          }
        }
      ]
    },
    {
      "cell_type": "code",
      "metadata": {
        "id": "qbC10xuLuMbm"
      },
      "source": [
        "image_path='/content/drive/MyDrive/20210309_Datasets/red_car.png'\n",
        "from keras.preprocessing.image import load_img\n",
        "from keras.preprocessing.image import img_to_array\n",
        "from keras.models import load_model\n",
        "model=load_model(filepath='/content/drive/MyDrive/20210309_Files/CIFAR1.h5')"
      ],
      "execution_count": 114,
      "outputs": []
    },
    {
      "cell_type": "code",
      "metadata": {
        "id": "NEKhfroRu2SR"
      },
      "source": [
        "image=load_img(path=image_path,target_size=(32,32,3))\n"
      ],
      "execution_count": 115,
      "outputs": []
    },
    {
      "cell_type": "code",
      "metadata": {
        "colab": {
          "base_uri": "https://localhost:8080/"
        },
        "id": "iKWMbe86vOBC",
        "outputId": "ec8f432a-046f-49d0-b5b4-133070ad7797"
      },
      "source": [
        "image=np.array(image)\n",
        "image.shape"
      ],
      "execution_count": 116,
      "outputs": [
        {
          "output_type": "execute_result",
          "data": {
            "text/plain": [
              "(32, 32, 3)"
            ]
          },
          "metadata": {},
          "execution_count": 116
        }
      ]
    },
    {
      "cell_type": "code",
      "metadata": {
        "id": "y6FVUDrYvdbG"
      },
      "source": [
        "image=image.reshape(1,32,32,3)"
      ],
      "execution_count": 119,
      "outputs": []
    },
    {
      "cell_type": "code",
      "metadata": {
        "colab": {
          "base_uri": "https://localhost:8080/"
        },
        "id": "TXW1kEYEyPcH",
        "outputId": "d9f5b5c9-384f-47b6-d6c0-303f9ecfd757"
      },
      "source": [
        "image=image.astype('float32')/255.0\n",
        "prediction=model.predict(image)\n",
        "prediction"
      ],
      "execution_count": 120,
      "outputs": [
        {
          "output_type": "execute_result",
          "data": {
            "text/plain": [
              "array([[1.0619615e-01, 3.9480024e-04, 8.7428028e-03, 4.8378676e-01,\n",
              "        2.2633836e-01, 5.5588165e-04, 1.1400846e-02, 1.3267897e-03,\n",
              "        1.6125719e-01, 4.1177648e-07]], dtype=float32)"
            ]
          },
          "metadata": {},
          "execution_count": 120
        }
      ]
    },
    {
      "cell_type": "code",
      "metadata": {
        "colab": {
          "base_uri": "https://localhost:8080/"
        },
        "id": "1wVnxSEYU381",
        "outputId": "7da6e9f2-e624-4c80-e7b9-58b6a6695f91"
      },
      "source": [
        "prediction.argmax()"
      ],
      "execution_count": 121,
      "outputs": [
        {
          "output_type": "execute_result",
          "data": {
            "text/plain": [
              "3"
            ]
          },
          "metadata": {},
          "execution_count": 121
        }
      ]
    },
    {
      "cell_type": "markdown",
      "metadata": {
        "id": "U0AuqOMUVB2l"
      },
      "source": [
        "The above prediction is not right since our model still has less accuracy"
      ]
    },
    {
      "cell_type": "markdown",
      "metadata": {
        "id": "HHTxkAdDJ6Uq"
      },
      "source": [
        "# Using pre-trained models"
      ]
    },
    {
      "cell_type": "code",
      "metadata": {
        "id": "5ySq9YUoJ9Mz"
      },
      "source": [
        "from numpy import asarray\n",
        "import numpy as np\n",
        "import tensorflow as tf\n",
        "from keras.models import Model\n",
        "from keras.layers import Input\n",
        "from keras.layers import Conv2D\n",
        "from keras.layers import MaxPooling2D\n",
        "from keras import utils"
      ],
      "execution_count": null,
      "outputs": []
    },
    {
      "cell_type": "code",
      "metadata": {
        "colab": {
          "base_uri": "https://localhost:8080/"
        },
        "id": "p5lZjeLtKPLm",
        "outputId": "464b04c4-b397-44c6-89fd-9df1b8fc1323"
      },
      "source": [
        "(trainX.shape, trainY.shape), (testX.shape, testY.shape)"
      ],
      "execution_count": null,
      "outputs": [
        {
          "output_type": "execute_result",
          "data": {
            "text/plain": [
              "(((60000, 28, 28, 1), (60000, 10)), ((10000, 28, 28, 1), (10000, 10)))"
            ]
          },
          "metadata": {},
          "execution_count": 14
        }
      ]
    },
    {
      "cell_type": "code",
      "metadata": {
        "id": "GB-363TGLvEl"
      },
      "source": [
        "trainX ,testX =trainX.reshape(60000,28,28,1) , testX.reshape(10000,28,28,1)"
      ],
      "execution_count": null,
      "outputs": []
    },
    {
      "cell_type": "code",
      "metadata": {
        "id": "aoBnsXh_MknF"
      },
      "source": [
        "image_path='/content/drive/MyDrive/20210309_Datasets/sandle.png'\n",
        "image=load_img(path=image_path,target_size=(224,224) ,grayscale='True')"
      ],
      "execution_count": null,
      "outputs": []
    },
    {
      "cell_type": "code",
      "metadata": {
        "colab": {
          "base_uri": "https://localhost:8080/",
          "height": 286
        },
        "id": "DnbG7pU6M8yl",
        "outputId": "f8aedc6f-d67f-4a96-b974-f38b1478e94a"
      },
      "source": [
        "plt.imshow(image)"
      ],
      "execution_count": null,
      "outputs": [
        {
          "output_type": "execute_result",
          "data": {
            "text/plain": [
              "<matplotlib.image.AxesImage at 0x7fdea91b89d0>"
            ]
          },
          "metadata": {},
          "execution_count": 41
        },
        {
          "output_type": "display_data",
          "data": {
            "image/png": "[encoded data removed]",
            "text/plain": [
              "<Figure size 432x288 with 1 Axes>"
            ]
          },
          "metadata": {
            "needs_background": "light"
          }
        }
      ]
    },
    {
      "cell_type": "code",
      "metadata": {
        "colab": {
          "base_uri": "https://localhost:8080/"
        },
        "id": "xxh_0AWCKjqW",
        "outputId": "51ffa7a2-1d90-4337-8434-c8216f682b37"
      },
      "source": [
        "from keras.preprocessing.image import load_img\n",
        "from keras.applications.vgg16 import preprocess_input\n",
        "from keras.applications.vgg16 import decode_predictions\n",
        "\n",
        "image = load_img(image_path, target_size=(224,224))\n",
        "# # convert the image pixels to a numpy array\n",
        "image = np.array(image)\n",
        "# # reshape data for the model\n",
        "image = image.reshape((1, image.shape[0], image.shape[1], image.shape[2]))\n",
        "# prepare the image for the VGG model\n",
        "image = preprocess_input(image)\n",
        "# load the model\n",
        "model = VGG16()\n",
        "# predict the probability across all output classes\n",
        "yhat = model.predict(image)\n",
        "# convert the probabilities to class labels\n",
        "label = decode_predictions(yhat)\n",
        "# retrieve the most likely result, e.g. highest probability\n",
        "label1 = label[0][0]\n",
        "# print the classification\n",
        "print('%s (%.2f%%)' % (label1[1], label1[2]*100))"
      ],
      "execution_count": null,
      "outputs": [
        {
          "output_type": "stream",
          "name": "stdout",
          "text": [
            "digital_clock (39.83%)\n"
          ]
        }
      ]
    },
    {
      "cell_type": "markdown",
      "metadata": {
        "id": "J8fSQl_RPWYl"
      },
      "source": [
        ""
      ]
    },
    {
      "cell_type": "markdown",
      "metadata": {
        "id": "2_72x8EqpazA"
      },
      "source": [
        "## Reamining Tasks\n",
        "\n",
        "\n",
        "1.   Make functions for loading and preprocessing\n",
        "2.   Make function for model and training\n",
        "\n",
        "2.   Use kfold splits for training\n",
        "\n"
      ]
    }
  ]
}